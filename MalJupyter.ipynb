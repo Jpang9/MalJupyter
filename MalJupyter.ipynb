{
 "cells": [
  {
   "cell_type": "markdown",
   "id": "79028761-3868-4d0c-8034-412a5803745e",
   "metadata": {},
   "source": [
    "# Import Required Packages"
   ]
  },
  {
   "cell_type": "code",
   "execution_count": 1,
   "id": "0a8badbb-410b-4976-b76c-fbcdc25d1dba",
   "metadata": {},
   "outputs": [],
   "source": [
    "from Jupyter import *\n",
    "import os\n",
    "from time import sleep\n",
    "from virus_total_apis import PublicApi as VirusTotalPublicApi\n",
    "import json\n",
    "from getpass import getpass"
   ]
  },
  {
   "cell_type": "markdown",
   "id": "ce031097-7460-43ad-bf1d-043e59424e59",
   "metadata": {},
   "source": [
    "# Check If folders Exist"
   ]
  },
  {
   "cell_type": "code",
   "execution_count": 2,
   "id": "d16cfdaa-dc14-49d5-a090-b4b5a63b431f",
   "metadata": {},
   "outputs": [
    {
     "name": "stdout",
     "output_type": "stream",
     "text": [
      "Need Samples to continue\n"
     ]
    }
   ],
   "source": [
    "MalAnalyst.checkFolder(\"Samples\")\n",
    "MalAnalyst.checkFolder(\"Defanged\")\n",
    "empty = MalAnalyst.checkSamples(\"Samples\")\n",
    "if empty:\n",
    "    print(\"No samples provided, need samples or you can download them on the next step...\")"
   ]
  },
  {
   "cell_type": "markdown",
   "id": "d1941d98-367e-4e67-b5c3-67cf3fa1a477",
   "metadata": {},
   "source": [
    "# Download Samples From Malware Bazaar?"
   ]
  },
  {
   "cell_type": "code",
   "execution_count": 3,
   "id": "b6bb279c-e7ed-4fc8-a478-85fd9995b6ec",
   "metadata": {},
   "outputs": [
    {
     "name": "stdin",
     "output_type": "stream",
     "text": [
      "do you want more samples?  y\n",
      "What Tags would you like to include:  RemcosRat\n"
     ]
    },
    {
     "name": "stdout",
     "output_type": "stream",
     "text": [
      "searching for RemcosRat\n",
      "ff4eaf31a3a0f4f99fd9c71caa01388cd50a9917fc16625d549c470cf23cd68f.zip has been downloaded\n",
      "ff4eaf31a3a0f4f99fd9c71caa01388cd50a9917fc16625d549c470cf23cd68f.zip has been extracted...\n",
      "ff4eaf31a3a0f4f99fd9c71caa01388cd50a9917fc16625d549c470cf23cd68f.zip has been removed...\n",
      "83d297c0de9846ebf9db06df45c0b09dd2751bbb2e487d9d6df1128a29da6d47.zip has been downloaded\n",
      "83d297c0de9846ebf9db06df45c0b09dd2751bbb2e487d9d6df1128a29da6d47.zip has been extracted...\n",
      "83d297c0de9846ebf9db06df45c0b09dd2751bbb2e487d9d6df1128a29da6d47.zip has been removed...\n",
      "79fd22e1bb6fa5e88488288e2472fc4323948ae21b5ea4ad0a9692b0ebb8b835.zip has been downloaded\n",
      "79fd22e1bb6fa5e88488288e2472fc4323948ae21b5ea4ad0a9692b0ebb8b835.zip has been extracted...\n",
      "79fd22e1bb6fa5e88488288e2472fc4323948ae21b5ea4ad0a9692b0ebb8b835.zip has been removed...\n"
     ]
    }
   ],
   "source": [
    "from Jupyter import * \n",
    "\n",
    "answer = input(\"do you want more samples? \")\n",
    "if answer == \"yes\" or answer == \"y\":\n",
    "    MalAnalyst.downloadSamplesFromMalBazaar()\n",
    "else:\n",
    "    print(\"Continuing...\")"
   ]
  },
  {
   "cell_type": "markdown",
   "id": "74f569d8-f281-4394-b1c9-2f3820b84203",
   "metadata": {},
   "source": [
    "# Enumerate Samples"
   ]
  },
  {
   "cell_type": "code",
   "execution_count": 4,
   "id": "1276268d-f4c5-490b-9a69-82d7c744bc2f",
   "metadata": {},
   "outputs": [
    {
     "name": "stdout",
     "output_type": "stream",
     "text": [
      "Samples = Samples/79fd22e1bb6fa5e88488288e2472fc4323948ae21b5ea4ad0a9692b0ebb8b835.exe\n",
      "Samples = Samples/83d297c0de9846ebf9db06df45c0b09dd2751bbb2e487d9d6df1128a29da6d47.exe\n",
      "Samples = Samples/ff4eaf31a3a0f4f99fd9c71caa01388cd50a9917fc16625d549c470cf23cd68f.exe\n"
     ]
    }
   ],
   "source": [
    "samples=!ls Samples/*\n",
    "for s in samples:\n",
    "    print(\"Samples = \" + s)"
   ]
  },
  {
   "cell_type": "code",
   "execution_count": 5,
   "id": "63fbf42d-4eb7-4f75-a071-173d47cbafde",
   "metadata": {},
   "outputs": [],
   "source": [
    "sampleObj = [MalAnalyst(s) for s in samples]"
   ]
  },
  {
   "cell_type": "markdown",
   "id": "884e43b2-5e75-472d-ad29-df8afd408d00",
   "metadata": {},
   "source": [
    "# Create a subdirectory for the Malware"
   ]
  },
  {
   "cell_type": "code",
   "execution_count": 6,
   "id": "5b4150aa-73e0-4ee5-940b-5516d22db964",
   "metadata": {},
   "outputs": [
    {
     "name": "stdout",
     "output_type": "stream",
     "text": [
      "Defanged/79fd22e1bb6fa5e88488288e2472fc4323948ae21b5ea4ad0a9692b0ebb8b835\n",
      "File hash is: 79fd22e1bb6fa5e88488288e2472fc4323948ae21b5ea4ad0a9692b0ebb8b835\n",
      "Defanged/83d297c0de9846ebf9db06df45c0b09dd2751bbb2e487d9d6df1128a29da6d47\n",
      "File hash is: 83d297c0de9846ebf9db06df45c0b09dd2751bbb2e487d9d6df1128a29da6d47\n",
      "Defanged/ff4eaf31a3a0f4f99fd9c71caa01388cd50a9917fc16625d549c470cf23cd68f\n",
      "File hash is: ff4eaf31a3a0f4f99fd9c71caa01388cd50a9917fc16625d549c470cf23cd68f\n"
     ]
    }
   ],
   "source": [
    "for obj in sampleObj:\n",
    "    createSub = MalAnalyst.createSubDirectoryForMalwareSample(obj.sampleName)\n",
    "    hash = MalAnalyst.retrieveSha256HashSum(obj.sampleName)\n",
    "    print(createSub)\n",
    "    print(\"File hash is: \" + hash)\n",
    "    obj.hash = hash\n",
    "    obj.hashedPath = createSub"
   ]
  },
  {
   "cell_type": "markdown",
   "id": "fd733722-ac6d-4147-8be6-d6d99c3caffd",
   "metadata": {},
   "source": [
    "# Check Details on Virus-Total"
   ]
  },
  {
   "cell_type": "code",
   "execution_count": 7,
   "id": "848adb63-0c57-47b5-a70c-ce126bd9d76e",
   "metadata": {},
   "outputs": [
    {
     "name": "stdin",
     "output_type": "stream",
     "text": [
      "Enter VirusTotal API Key (leave blank if none) ········\n"
     ]
    }
   ],
   "source": [
    "VT_API_KEY = getpass(\"Enter VirusTotal API Key (leave blank if none)\")"
   ]
  },
  {
   "cell_type": "code",
   "execution_count": 8,
   "id": "4435b1f4-6a36-4df9-9b54-f63d5afaf684",
   "metadata": {},
   "outputs": [],
   "source": [
    "if VT_API_KEY:\n",
    "    virustot = VirusTotalPublicApi(VT_API_KEY)\n",
    "else:\n",
    "    print(\"No Virus Total Key Inputted...Skipping\")"
   ]
  },
  {
   "cell_type": "code",
   "execution_count": 9,
   "id": "5f03bc7e-784b-4052-afe5-79e93a0ad6c3",
   "metadata": {},
   "outputs": [
    {
     "name": "stdout",
     "output_type": "stream",
     "text": [
      "Virus Total info regarding this hashsum: 79fd22e1bb6fa5e88488288e2472fc4323948ae21b5ea4ad0a9692b0ebb8b835\n",
      "Confidence = 37.14\n",
      "Virus Total info regarding this hashsum: 83d297c0de9846ebf9db06df45c0b09dd2751bbb2e487d9d6df1128a29da6d47\n",
      "Confidence = None\n",
      "Virus Total info regarding this hashsum: ff4eaf31a3a0f4f99fd9c71caa01388cd50a9917fc16625d549c470cf23cd68f\n",
      "Confidence = 40.85\n"
     ]
    }
   ],
   "source": [
    "if VT_API_KEY:\n",
    "    for obj in sampleObj:\n",
    "        print(\"Virus Total info regarding this hashsum: \" + obj.hash)\n",
    "        res = virustot.get_file_report(obj.hash)\n",
    "        conf = Utils.maliciousConfidence(res)\n",
    "        print(\"Confidence = \" + str(conf))\n",
    "        \n",
    "        if len(sampleObj) >= 5:\n",
    "            sleep(16)\n",
    "        \n",
    "    \n",
    "else:\n",
    "    print(\"No API KEY Skipping...\")"
   ]
  },
  {
   "cell_type": "markdown",
   "id": "bf12abcf-3ed3-4341-ac8d-2905194bb2aa",
   "metadata": {},
   "source": [
    "# Defang Malicious Binary"
   ]
  },
  {
   "cell_type": "code",
   "execution_count": 10,
   "id": "7c3f0e89-7318-4380-a30e-7bd647b4f12a",
   "metadata": {},
   "outputs": [
    {
     "name": "stdout",
     "output_type": "stream",
     "text": [
      "Defanged/79fd22e1bb6fa5e88488288e2472fc4323948ae21b5ea4ad0a9692b0ebb8b835/79fd22e1bb6fa5e88488288e2472fc4323948ae21b5ea4ad0a9692b0ebb8b835.Defanged\n",
      "Defanged/83d297c0de9846ebf9db06df45c0b09dd2751bbb2e487d9d6df1128a29da6d47/83d297c0de9846ebf9db06df45c0b09dd2751bbb2e487d9d6df1128a29da6d47.Defanged\n",
      "Defanged/ff4eaf31a3a0f4f99fd9c71caa01388cd50a9917fc16625d549c470cf23cd68f/ff4eaf31a3a0f4f99fd9c71caa01388cd50a9917fc16625d549c470cf23cd68f.Defanged\n"
     ]
    }
   ],
   "source": [
    "for obj in sampleObj:\n",
    "    defangBinary = MalAnalyst.moveAndDefang(obj.sampleName)\n",
    "    print(defangBinary)\n",
    "    obj.newSampleName = defangBinary"
   ]
  },
  {
   "cell_type": "markdown",
   "id": "b6abed57-fcc8-436b-a2b4-cb69eec8b37d",
   "metadata": {},
   "source": [
    "# Create a automatic yara rule"
   ]
  },
  {
   "cell_type": "code",
   "execution_count": null,
   "id": "34926b72-9389-4c56-9b8d-5b6c567c33c9",
   "metadata": {},
   "outputs": [],
   "source": [
    "%%capture\n",
    "for obj in sampleObj:\n",
    "    MalAnalyst.retrieveStringsFromYarGen(obj.hashedPath, obj.hash)"
   ]
  },
  {
   "cell_type": "code",
   "execution_count": null,
   "id": "ca844ac0-a7e4-4c19-b8a7-c4ce3fe13acc",
   "metadata": {},
   "outputs": [],
   "source": [
    "print(\"YaraGen Rules creation has been completed\")"
   ]
  },
  {
   "cell_type": "markdown",
   "id": "cdce26e3-d981-4c03-af83-7e553b35d381",
   "metadata": {},
   "source": [
    "# Pull Strings from Binary"
   ]
  },
  {
   "cell_type": "code",
   "execution_count": null,
   "id": "9350974a-9a1e-41ab-bc9c-77cdafcdaad3",
   "metadata": {},
   "outputs": [],
   "source": [
    "for obj in sampleObj:\n",
    "    MalAnalyst.pullStringsEncodedAndUnicode(obj.newSampleName, obj.hashedPath)  #obj.samplename \n",
    "    print(\"Encoded Strings and Unicode files for \" + obj.hash + \"has been pulled\")"
   ]
  },
  {
   "cell_type": "markdown",
   "id": "4d825bc6-a499-4890-a6bd-e4de3afa9b9a",
   "metadata": {
    "tags": []
   },
   "source": [
    "# Zip Malware with a password"
   ]
  },
  {
   "cell_type": "code",
   "execution_count": null,
   "id": "0695d422-d762-4113-b7ed-251e77937218",
   "metadata": {},
   "outputs": [],
   "source": [
    "for obj in sampleObj:\n",
    "    MalAnalyst.zipMaliciousSample(obj.newSampleName, obj.hash, obj.hashedPath)\n",
    "    print(obj.hash + \" has been zipped and protected with the password infected\")    "
   ]
  }
 ],
 "metadata": {
  "kernelspec": {
   "display_name": "Python 3 (ipykernel)",
   "language": "python",
   "name": "python3"
  },
  "language_info": {
   "codemirror_mode": {
    "name": "ipython",
    "version": 3
   },
   "file_extension": ".py",
   "mimetype": "text/x-python",
   "name": "python",
   "nbconvert_exporter": "python",
   "pygments_lexer": "ipython3",
   "version": "3.10.8"
  }
 },
 "nbformat": 4,
 "nbformat_minor": 5
}
