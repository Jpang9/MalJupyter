{
 "cells": [
  {
   "cell_type": "markdown",
   "id": "79028761-3868-4d0c-8034-412a5803745e",
   "metadata": {},
   "source": [
    "# Import Required Packages"
   ]
  },
  {
   "cell_type": "code",
   "execution_count": 1,
   "id": "0a8badbb-410b-4976-b76c-fbcdc25d1dba",
   "metadata": {},
   "outputs": [],
   "source": [
    "from Jupyter import *\n",
    "import os"
   ]
  },
  {
   "cell_type": "markdown",
   "id": "ce031097-7460-43ad-bf1d-043e59424e59",
   "metadata": {},
   "source": [
    "# Check If folders Exist"
   ]
  },
  {
   "cell_type": "code",
   "execution_count": 2,
   "id": "d16cfdaa-dc14-49d5-a090-b4b5a63b431f",
   "metadata": {},
   "outputs": [],
   "source": [
    "MalAnalyst.checkFolder(\"Samples\")\n",
    "MalAnalyst.checkFolder(\"Defanged\")\n",
    "empty = MalAnalyst.checkSamples(\"Samples\")\n",
    "if empty:\n",
    "    print(\"No Samples Provided, Need Samples\")"
   ]
  },
  {
   "cell_type": "markdown",
   "id": "74f569d8-f281-4394-b1c9-2f3820b84203",
   "metadata": {},
   "source": [
    "# Enumerate Samples"
   ]
  },
  {
   "cell_type": "code",
   "execution_count": 3,
   "id": "1276268d-f4c5-490b-9a69-82d7c744bc2f",
   "metadata": {},
   "outputs": [
    {
     "name": "stdout",
     "output_type": "stream",
     "text": [
      "Samples = Samples/29956baef7de02eb8eaeb36c6b82eb778e1ff8d19bdd5ce1a08228563dac025e.exe\n",
      "Samples = Samples/94b7f4efeb2e325b65c2ada70c884cb6d1537960131f67aa8cfee9126eb69c9f.exe\n",
      "Samples = Samples/f81541db6e4764fde4afb114a625d8f73f3c920c727dfba1f3562d607bb3b500.exe\n"
     ]
    }
   ],
   "source": [
    "samples=!ls Samples/*\n",
    "for s in samples:\n",
    "    print(\"Samples = \" + s)"
   ]
  },
  {
   "cell_type": "code",
   "execution_count": 4,
   "id": "63fbf42d-4eb7-4f75-a071-173d47cbafde",
   "metadata": {},
   "outputs": [],
   "source": [
    "sampleObj = [MalAnalyst(s) for s in samples]"
   ]
  },
  {
   "cell_type": "markdown",
   "id": "884e43b2-5e75-472d-ad29-df8afd408d00",
   "metadata": {},
   "source": [
    "# Create a subdirectory for the Malware"
   ]
  },
  {
   "cell_type": "code",
   "execution_count": 5,
   "id": "5b4150aa-73e0-4ee5-940b-5516d22db964",
   "metadata": {},
   "outputs": [
    {
     "name": "stdout",
     "output_type": "stream",
     "text": [
      "Defanged/29956baef7de02eb8eaeb36c6b82eb778e1ff8d19bdd5ce1a08228563dac025e\n",
      "File hash is: 29956baef7de02eb8eaeb36c6b82eb778e1ff8d19bdd5ce1a08228563dac025e\n",
      "Defanged/94b7f4efeb2e325b65c2ada70c884cb6d1537960131f67aa8cfee9126eb69c9f\n",
      "File hash is: 94b7f4efeb2e325b65c2ada70c884cb6d1537960131f67aa8cfee9126eb69c9f\n",
      "Defanged/f81541db6e4764fde4afb114a625d8f73f3c920c727dfba1f3562d607bb3b500\n",
      "File hash is: f81541db6e4764fde4afb114a625d8f73f3c920c727dfba1f3562d607bb3b500\n"
     ]
    }
   ],
   "source": [
    "for obj in sampleObj:\n",
    "    createSub = MalAnalyst.createSubDirectoryForMalwareSample(obj.sampleName)\n",
    "    hash = MalAnalyst.retrieveSha256HashSum(obj.sampleName)\n",
    "    print(createSub)\n",
    "    print(\"File hash is: \" + hash)\n",
    "    obj.hash = hash\n",
    "    obj.hashedPath = createSub"
   ]
  },
  {
   "cell_type": "markdown",
   "id": "bf12abcf-3ed3-4341-ac8d-2905194bb2aa",
   "metadata": {},
   "source": [
    "# Defang Malicious Binary"
   ]
  },
  {
   "cell_type": "code",
   "execution_count": 6,
   "id": "7c3f0e89-7318-4380-a30e-7bd647b4f12a",
   "metadata": {},
   "outputs": [
    {
     "name": "stdout",
     "output_type": "stream",
     "text": [
      "Defanged/29956baef7de02eb8eaeb36c6b82eb778e1ff8d19bdd5ce1a08228563dac025e/29956baef7de02eb8eaeb36c6b82eb778e1ff8d19bdd5ce1a08228563dac025e.Defanged\n",
      "Defanged/94b7f4efeb2e325b65c2ada70c884cb6d1537960131f67aa8cfee9126eb69c9f/94b7f4efeb2e325b65c2ada70c884cb6d1537960131f67aa8cfee9126eb69c9f.Defanged\n",
      "Defanged/f81541db6e4764fde4afb114a625d8f73f3c920c727dfba1f3562d607bb3b500/f81541db6e4764fde4afb114a625d8f73f3c920c727dfba1f3562d607bb3b500.Defanged\n"
     ]
    }
   ],
   "source": [
    "for obj in sampleObj:\n",
    "    defangBinary = MalAnalyst.moveAndDefang(obj.sampleName)\n",
    "    print(defangBinary)\n",
    "    obj.newSampleName = defangBinary"
   ]
  },
  {
   "cell_type": "markdown",
   "id": "b6abed57-fcc8-436b-a2b4-cb69eec8b37d",
   "metadata": {},
   "source": [
    "# Create a automatic yara rule"
   ]
  },
  {
   "cell_type": "code",
   "execution_count": 7,
   "id": "34926b72-9389-4c56-9b8d-5b6c567c33c9",
   "metadata": {},
   "outputs": [
    {
     "name": "stdout",
     "output_type": "stream",
     "text": [
      "------------------------------------------------------------------------\n",
      "                   _____            \n",
      "    __ _____ _____/ ___/__ ___      \n",
      "   / // / _ `/ __/ (_ / -_) _ \\     \n",
      "   \\_, /\\_,_/_/  \\___/\\__/_//_/     \n",
      "  /___/  Yara Rule Generator        \n",
      "         Florian Roth, July 2020, Version 0.23.3\n",
      "   \n",
      "  Note: Rules have to be post-processed\n",
      "  See this post for details: https://medium.com/@cyb3rops/121d29322282\n",
      "------------------------------------------------------------------------\n",
      "[+] Using identifier '29956baef7de02eb8eaeb36c6b82eb778e1ff8d19bdd5ce1a08228563dac025e'\n",
      "[+] Using reference 'https://github.com/Neo23x0/yarGen'\n",
      "[+] Using prefix '29956baef7de02eb8eaeb36c6b82eb778e1ff8d19bdd5ce1a08228563dac025e'\n",
      "[+] Processing PEStudio strings ...\n",
      "[+] Reading goodware strings from database 'good-strings.db' ...\n",
      "    (This could take some time and uses several Gigabytes of RAM depending on your db size)\n",
      "[+] Loading ./dbs/good-exports-part1.db ...\n",
      "[+] Total: 112527 / Added 112527 entries\n",
      "[+] Loading ./dbs/good-imphashes-part4.db ...\n",
      "[+] Total: 2539 / Added 2539 entries\n",
      "[+] Loading ./dbs/good-strings-part4.db ...\n",
      "[+] Total: 2292468 / Added 2292468 entries\n",
      "[+] Loading ./dbs/good-strings-part2.db ...\n",
      "[+] Total: 3586283 / Added 1293815 entries\n",
      "[+] Loading ./dbs/good-strings-part8.db ...\n",
      "[+] Total: 3859919 / Added 273636 entries\n",
      "[+] Loading ./dbs/good-exports-part2.db ...\n",
      "[+] Total: 178638 / Added 66111 entries\n",
      "[+] Loading ./dbs/good-imphashes-part2.db ...\n",
      "[+] Total: 3588 / Added 1049 entries\n",
      "[+] Loading ./dbs/good-strings-part9.db ...\n",
      "[+] Total: 3860655 / Added 736 entries\n",
      "[+] Loading ./dbs/good-imphashes-part5.db ...\n",
      "[+] Total: 10921 / Added 7333 entries\n",
      "[+] Loading ./dbs/good-exports-part9.db ...\n",
      "[+] Total: 178638 / Added 0 entries\n",
      "[+] Loading ./dbs/good-exports-part8.db ...\n",
      "[+] Total: 182800 / Added 4162 entries\n",
      "[+] Loading ./dbs/good-exports-part3.db ...\n",
      "[+] Total: 267218 / Added 84418 entries\n",
      "[+] Loading ./dbs/good-imphashes-part1.db ...\n",
      "[+] Total: 12497 / Added 1576 entries\n",
      "[+] Loading ./dbs/good-strings-part3.db ...\n",
      "[+] Total: 6262090 / Added 2401435 entries\n",
      "[+] Loading ./dbs/good-imphashes-part6.db ...\n",
      "[+] Total: 12526 / Added 29 entries\n",
      "[+] Loading ./dbs/good-strings-part1.db ...\n",
      "[+] Total: 7298553 / Added 1036463 entries\n",
      "[+] Loading ./dbs/good-imphashes-part8.db ...\n",
      "[+] Total: 12711 / Added 185 entries\n",
      "[+] Loading ./dbs/good-imphashes-part9.db ...\n",
      "[+] Total: 12711 / Added 0 entries\n",
      "[+] Loading ./dbs/good-exports-part4.db ...\n",
      "[+] Total: 282601 / Added 15383 entries\n",
      "[+] Loading ./dbs/good-imphashes-part7.db ...\n",
      "[+] Total: 16123 / Added 3412 entries\n",
      "[+] Loading ./dbs/good-strings-part7.db ...\n",
      "[+] Total: 8486175 / Added 1187622 entries\n",
      "[+] Loading ./dbs/good-exports-part7.db ...\n",
      "[+] Total: 330701 / Added 48100 entries\n",
      "[+] Loading ./dbs/good-strings-part5.db ...\n",
      "[+] Total: 11683972 / Added 3197797 entries\n",
      "[+] Loading ./dbs/good-imphashes-part3.db ...\n",
      "[+] Total: 19764 / Added 3641 entries\n",
      "[+] Loading ./dbs/good-exports-part6.db ...\n",
      "[+] Total: 332359 / Added 1658 entries\n",
      "[+] Loading ./dbs/good-strings-part6.db ...\n",
      "[+] Total: 12284943 / Added 600971 entries\n",
      "[+] Loading ./dbs/good-exports-part5.db ...\n",
      "[+] Total: 404321 / Added 71962 entries\n",
      "[+] Processing malware files ...\n",
      "[+] Processing Defanged/29956baef7de02eb8eaeb36c6b82eb778e1ff8d19bdd5ce1a08228563dac025e/29956baef7de02eb8eaeb36c6b82eb778e1ff8d19bdd5ce1a08228563dac025e.Defanged ...\n",
      "[+] Generating statistical data ...\n",
      "[+] Generating Super Rules ... (a lot of magic)\n",
      "[+] Generating Simple Rules ...\n",
      "[-] Applying intelligent filters to string findings ...\n",
      "[-] Filtering string set for Defanged/29956baef7de02eb8eaeb36c6b82eb778e1ff8d19bdd5ce1a08228563dac025e/29956baef7de02eb8eaeb36c6b82eb778e1ff8d19bdd5ce1a08228563dac025e.Defanged ...\n",
      "[=] Generated 1 SIMPLE rules.\n",
      "[=] All rules written to Defanged/29956baef7de02eb8eaeb36c6b82eb778e1ff8d19bdd5ce1a08228563dac025e/29956baef7de02eb8eaeb36c6b82eb778e1ff8d19bdd5ce1a08228563dac025e.yara\n",
      "[+] yarGen run finished\n",
      "------------------------------------------------------------------------\n",
      "                   _____            \n",
      "    __ _____ _____/ ___/__ ___      \n",
      "   / // / _ `/ __/ (_ / -_) _ \\     \n",
      "   \\_, /\\_,_/_/  \\___/\\__/_//_/     \n",
      "  /___/  Yara Rule Generator        \n",
      "         Florian Roth, July 2020, Version 0.23.3\n",
      "   \n",
      "  Note: Rules have to be post-processed\n",
      "  See this post for details: https://medium.com/@cyb3rops/121d29322282\n",
      "------------------------------------------------------------------------\n",
      "[+] Using identifier '94b7f4efeb2e325b65c2ada70c884cb6d1537960131f67aa8cfee9126eb69c9f'\n",
      "[+] Using reference 'https://github.com/Neo23x0/yarGen'\n",
      "[+] Using prefix '94b7f4efeb2e325b65c2ada70c884cb6d1537960131f67aa8cfee9126eb69c9f'\n",
      "[+] Processing PEStudio strings ...\n",
      "[+] Reading goodware strings from database 'good-strings.db' ...\n",
      "    (This could take some time and uses several Gigabytes of RAM depending on your db size)\n",
      "[+] Loading ./dbs/good-exports-part1.db ...\n",
      "[+] Total: 112527 / Added 112527 entries\n",
      "[+] Loading ./dbs/good-imphashes-part4.db ...\n",
      "[+] Total: 2539 / Added 2539 entries\n",
      "[+] Loading ./dbs/good-strings-part4.db ...\n",
      "[+] Total: 2292468 / Added 2292468 entries\n",
      "[+] Loading ./dbs/good-strings-part2.db ...\n",
      "[+] Total: 3586283 / Added 1293815 entries\n",
      "[+] Loading ./dbs/good-strings-part8.db ...\n",
      "[+] Total: 3859919 / Added 273636 entries\n",
      "[+] Loading ./dbs/good-exports-part2.db ...\n",
      "[+] Total: 178638 / Added 66111 entries\n",
      "[+] Loading ./dbs/good-imphashes-part2.db ...\n",
      "[+] Total: 3588 / Added 1049 entries\n",
      "[+] Loading ./dbs/good-strings-part9.db ...\n",
      "[+] Total: 3860655 / Added 736 entries\n",
      "[+] Loading ./dbs/good-imphashes-part5.db ...\n",
      "[+] Total: 10921 / Added 7333 entries\n",
      "[+] Loading ./dbs/good-exports-part9.db ...\n",
      "[+] Total: 178638 / Added 0 entries\n",
      "[+] Loading ./dbs/good-exports-part8.db ...\n",
      "[+] Total: 182800 / Added 4162 entries\n",
      "[+] Loading ./dbs/good-exports-part3.db ...\n",
      "[+] Total: 267218 / Added 84418 entries\n",
      "[+] Loading ./dbs/good-imphashes-part1.db ...\n",
      "[+] Total: 12497 / Added 1576 entries\n",
      "[+] Loading ./dbs/good-strings-part3.db ...\n",
      "[+] Total: 6262090 / Added 2401435 entries\n",
      "[+] Loading ./dbs/good-imphashes-part6.db ...\n",
      "[+] Total: 12526 / Added 29 entries\n",
      "[+] Loading ./dbs/good-strings-part1.db ...\n",
      "[+] Total: 7298553 / Added 1036463 entries\n",
      "[+] Loading ./dbs/good-imphashes-part8.db ...\n",
      "[+] Total: 12711 / Added 185 entries\n",
      "[+] Loading ./dbs/good-imphashes-part9.db ...\n",
      "[+] Total: 12711 / Added 0 entries\n",
      "[+] Loading ./dbs/good-exports-part4.db ...\n",
      "[+] Total: 282601 / Added 15383 entries\n",
      "[+] Loading ./dbs/good-imphashes-part7.db ...\n",
      "[+] Total: 16123 / Added 3412 entries\n",
      "[+] Loading ./dbs/good-strings-part7.db ...\n",
      "[+] Total: 8486175 / Added 1187622 entries\n",
      "[+] Loading ./dbs/good-exports-part7.db ...\n",
      "[+] Total: 330701 / Added 48100 entries\n",
      "[+] Loading ./dbs/good-strings-part5.db ...\n",
      "[+] Total: 11683972 / Added 3197797 entries\n",
      "[+] Loading ./dbs/good-imphashes-part3.db ...\n",
      "[+] Total: 19764 / Added 3641 entries\n",
      "[+] Loading ./dbs/good-exports-part6.db ...\n",
      "[+] Total: 332359 / Added 1658 entries\n",
      "[+] Loading ./dbs/good-strings-part6.db ...\n",
      "[+] Total: 12284943 / Added 600971 entries\n",
      "[+] Loading ./dbs/good-exports-part5.db ...\n",
      "[+] Total: 404321 / Added 71962 entries\n",
      "[+] Processing malware files ...\n",
      "[+] Processing Defanged/94b7f4efeb2e325b65c2ada70c884cb6d1537960131f67aa8cfee9126eb69c9f/94b7f4efeb2e325b65c2ada70c884cb6d1537960131f67aa8cfee9126eb69c9f.Defanged ...\n",
      "[+] Generating statistical data ...\n",
      "[+] Generating Super Rules ... (a lot of magic)\n",
      "[+] Generating Simple Rules ...\n",
      "[-] Applying intelligent filters to string findings ...\n",
      "[-] Filtering string set for Defanged/94b7f4efeb2e325b65c2ada70c884cb6d1537960131f67aa8cfee9126eb69c9f/94b7f4efeb2e325b65c2ada70c884cb6d1537960131f67aa8cfee9126eb69c9f.Defanged ...\n",
      "[=] Generated 1 SIMPLE rules.\n",
      "[=] All rules written to Defanged/94b7f4efeb2e325b65c2ada70c884cb6d1537960131f67aa8cfee9126eb69c9f/94b7f4efeb2e325b65c2ada70c884cb6d1537960131f67aa8cfee9126eb69c9f.yara\n",
      "[+] yarGen run finished\n",
      "------------------------------------------------------------------------\n",
      "                   _____            \n",
      "    __ _____ _____/ ___/__ ___      \n",
      "   / // / _ `/ __/ (_ / -_) _ \\     \n",
      "   \\_, /\\_,_/_/  \\___/\\__/_//_/     \n",
      "  /___/  Yara Rule Generator        \n",
      "         Florian Roth, July 2020, Version 0.23.3\n",
      "   \n",
      "  Note: Rules have to be post-processed\n",
      "  See this post for details: https://medium.com/@cyb3rops/121d29322282\n",
      "------------------------------------------------------------------------\n",
      "[+] Using identifier 'f81541db6e4764fde4afb114a625d8f73f3c920c727dfba1f3562d607bb3b500'\n",
      "[+] Using reference 'https://github.com/Neo23x0/yarGen'\n",
      "[+] Using prefix 'f81541db6e4764fde4afb114a625d8f73f3c920c727dfba1f3562d607bb3b500'\n",
      "[+] Processing PEStudio strings ...\n",
      "[+] Reading goodware strings from database 'good-strings.db' ...\n",
      "    (This could take some time and uses several Gigabytes of RAM depending on your db size)\n",
      "[+] Loading ./dbs/good-exports-part1.db ...\n",
      "[+] Total: 112527 / Added 112527 entries\n",
      "[+] Loading ./dbs/good-imphashes-part4.db ...\n",
      "[+] Total: 2539 / Added 2539 entries\n",
      "[+] Loading ./dbs/good-strings-part4.db ...\n",
      "[+] Total: 2292468 / Added 2292468 entries\n",
      "[+] Loading ./dbs/good-strings-part2.db ...\n",
      "[+] Total: 3586283 / Added 1293815 entries\n",
      "[+] Loading ./dbs/good-strings-part8.db ...\n",
      "[+] Total: 3859919 / Added 273636 entries\n",
      "[+] Loading ./dbs/good-exports-part2.db ...\n",
      "[+] Total: 178638 / Added 66111 entries\n",
      "[+] Loading ./dbs/good-imphashes-part2.db ...\n",
      "[+] Total: 3588 / Added 1049 entries\n",
      "[+] Loading ./dbs/good-strings-part9.db ...\n",
      "[+] Total: 3860655 / Added 736 entries\n",
      "[+] Loading ./dbs/good-imphashes-part5.db ...\n",
      "[+] Total: 10921 / Added 7333 entries\n",
      "[+] Loading ./dbs/good-exports-part9.db ...\n",
      "[+] Total: 178638 / Added 0 entries\n",
      "[+] Loading ./dbs/good-exports-part8.db ...\n",
      "[+] Total: 182800 / Added 4162 entries\n",
      "[+] Loading ./dbs/good-exports-part3.db ...\n",
      "[+] Total: 267218 / Added 84418 entries\n",
      "[+] Loading ./dbs/good-imphashes-part1.db ...\n",
      "[+] Total: 12497 / Added 1576 entries\n",
      "[+] Loading ./dbs/good-strings-part3.db ...\n",
      "[+] Total: 6262090 / Added 2401435 entries\n",
      "[+] Loading ./dbs/good-imphashes-part6.db ...\n",
      "[+] Total: 12526 / Added 29 entries\n",
      "[+] Loading ./dbs/good-strings-part1.db ...\n",
      "[+] Total: 7298553 / Added 1036463 entries\n",
      "[+] Loading ./dbs/good-imphashes-part8.db ...\n",
      "[+] Total: 12711 / Added 185 entries\n",
      "[+] Loading ./dbs/good-imphashes-part9.db ...\n",
      "[+] Total: 12711 / Added 0 entries\n",
      "[+] Loading ./dbs/good-exports-part4.db ...\n",
      "[+] Total: 282601 / Added 15383 entries\n",
      "[+] Loading ./dbs/good-imphashes-part7.db ...\n",
      "[+] Total: 16123 / Added 3412 entries\n",
      "[+] Loading ./dbs/good-strings-part7.db ...\n",
      "[+] Total: 8486175 / Added 1187622 entries\n",
      "[+] Loading ./dbs/good-exports-part7.db ...\n",
      "[+] Total: 330701 / Added 48100 entries\n",
      "[+] Loading ./dbs/good-strings-part5.db ...\n",
      "[+] Total: 11683972 / Added 3197797 entries\n",
      "[+] Loading ./dbs/good-imphashes-part3.db ...\n",
      "[+] Total: 19764 / Added 3641 entries\n",
      "[+] Loading ./dbs/good-exports-part6.db ...\n",
      "[+] Total: 332359 / Added 1658 entries\n",
      "[+] Loading ./dbs/good-strings-part6.db ...\n",
      "[+] Total: 12284943 / Added 600971 entries\n",
      "[+] Loading ./dbs/good-exports-part5.db ...\n",
      "[+] Total: 404321 / Added 71962 entries\n",
      "[+] Processing malware files ...\n",
      "[+] Processing Defanged/f81541db6e4764fde4afb114a625d8f73f3c920c727dfba1f3562d607bb3b500/f81541db6e4764fde4afb114a625d8f73f3c920c727dfba1f3562d607bb3b500.Defanged ...\n",
      "[+] Generating statistical data ...\n",
      "[+] Generating Super Rules ... (a lot of magic)\n",
      "[+] Generating Simple Rules ...\n",
      "[-] Applying intelligent filters to string findings ...\n",
      "[-] Filtering string set for Defanged/f81541db6e4764fde4afb114a625d8f73f3c920c727dfba1f3562d607bb3b500/f81541db6e4764fde4afb114a625d8f73f3c920c727dfba1f3562d607bb3b500.Defanged ...\n",
      "[=] Generated 1 SIMPLE rules.\n",
      "[=] All rules written to Defanged/f81541db6e4764fde4afb114a625d8f73f3c920c727dfba1f3562d607bb3b500/f81541db6e4764fde4afb114a625d8f73f3c920c727dfba1f3562d607bb3b500.yara\n",
      "[+] yarGen run finished\n"
     ]
    }
   ],
   "source": [
    "%%capture\n",
    "for obj in sampleObj:\n",
    "    MalAnalyst.retrieveStringsFromYarGen(obj.hashedPath, obj.hash)"
   ]
  },
  {
   "cell_type": "code",
   "execution_count": 8,
   "id": "ca844ac0-a7e4-4c19-b8a7-c4ce3fe13acc",
   "metadata": {},
   "outputs": [
    {
     "name": "stdout",
     "output_type": "stream",
     "text": [
      "YaraGen Rules creation has been completed\n"
     ]
    }
   ],
   "source": [
    "print(\"YaraGen Rules creation has been completed\")"
   ]
  },
  {
   "cell_type": "markdown",
   "id": "cdce26e3-d981-4c03-af83-7e553b35d381",
   "metadata": {},
   "source": [
    "# Pull Strings from Binary"
   ]
  },
  {
   "cell_type": "code",
   "execution_count": 9,
   "id": "9350974a-9a1e-41ab-bc9c-77cdafcdaad3",
   "metadata": {},
   "outputs": [
    {
     "name": "stdout",
     "output_type": "stream",
     "text": [
      "Encoded Strings and Unicode files for 29956baef7de02eb8eaeb36c6b82eb778e1ff8d19bdd5ce1a08228563dac025ehas been pulled\n",
      "Encoded Strings and Unicode files for 94b7f4efeb2e325b65c2ada70c884cb6d1537960131f67aa8cfee9126eb69c9fhas been pulled\n",
      "Encoded Strings and Unicode files for f81541db6e4764fde4afb114a625d8f73f3c920c727dfba1f3562d607bb3b500has been pulled\n"
     ]
    }
   ],
   "source": [
    "for obj in sampleObj:\n",
    "    MalAnalyst.pullStringsEncodedAndUnicode(obj.newSampleName, obj.hashedPath)  #obj.samplename \n",
    "    print(\"Encoded Strings and Unicode files for \" + obj.hash + \"has been pulled\")"
   ]
  },
  {
   "cell_type": "markdown",
   "id": "4d825bc6-a499-4890-a6bd-e4de3afa9b9a",
   "metadata": {
    "tags": []
   },
   "source": [
    "# Zip Malware with a password"
   ]
  },
  {
   "cell_type": "code",
   "execution_count": 10,
   "id": "0695d422-d762-4113-b7ed-251e77937218",
   "metadata": {},
   "outputs": [
    {
     "name": "stdout",
     "output_type": "stream",
     "text": [
      "29956baef7de02eb8eaeb36c6b82eb778e1ff8d19bdd5ce1a08228563dac025ehas been zipped and protected with the password infected\n",
      "94b7f4efeb2e325b65c2ada70c884cb6d1537960131f67aa8cfee9126eb69c9fhas been zipped and protected with the password infected\n",
      "f81541db6e4764fde4afb114a625d8f73f3c920c727dfba1f3562d607bb3b500has been zipped and protected with the password infected\n"
     ]
    }
   ],
   "source": [
    "for obj in sampleObj:\n",
    "    MalAnalyst.zipMaliciousSample(obj.newSampleName, obj.hash, obj.hashedPath)\n",
    "    print(obj.hash + \" has been zipped and protected with the password infected\")    "
   ]
  },
  {
   "cell_type": "code",
   "execution_count": null,
   "id": "ee22b18e-cb9d-43b7-b852-18d3bc8de5d4",
   "metadata": {},
   "outputs": [],
   "source": []
  }
 ],
 "metadata": {
  "kernelspec": {
   "display_name": "Python 3 (ipykernel)",
   "language": "python",
   "name": "python3"
  },
  "language_info": {
   "codemirror_mode": {
    "name": "ipython",
    "version": 3
   },
   "file_extension": ".py",
   "mimetype": "text/x-python",
   "name": "python",
   "nbconvert_exporter": "python",
   "pygments_lexer": "ipython3",
   "version": "3.10.8"
  }
 },
 "nbformat": 4,
 "nbformat_minor": 5
}
