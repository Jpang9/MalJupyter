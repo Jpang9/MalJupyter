{
 "cells": [
  {
   "cell_type": "markdown",
   "id": "79028761-3868-4d0c-8034-412a5803745e",
   "metadata": {},
   "source": [
    "# Import Required Packages"
   ]
  },
  {
   "cell_type": "code",
   "execution_count": 1,
   "id": "0a8badbb-410b-4976-b76c-fbcdc25d1dba",
   "metadata": {},
   "outputs": [],
   "source": [
    "from Jupyter import *\n",
    "import os\n",
    "from time import sleep\n",
    "from virus_total_apis import PublicApi as VirusTotalPublicApi\n",
    "import json\n",
    "from getpass import getpass"
   ]
  },
  {
   "cell_type": "markdown",
   "id": "ce031097-7460-43ad-bf1d-043e59424e59",
   "metadata": {},
   "source": [
    "# Check If folders Exist"
   ]
  },
  {
   "cell_type": "code",
   "execution_count": 2,
   "id": "d16cfdaa-dc14-49d5-a090-b4b5a63b431f",
   "metadata": {},
   "outputs": [
    {
     "name": "stdout",
     "output_type": "stream",
     "text": [
      "Need Samples to continue\n"
     ]
    }
   ],
   "source": [
    "MalAnalyst.checkFolder(\"Samples\")\n",
    "MalAnalyst.checkFolder(\"Defanged\")\n",
    "empty = MalAnalyst.checkSamples(\"Samples\")\n",
    "if empty:\n",
    "    print(\"No samples provided, need samples or you can download them on the next step...\")"
   ]
  },
  {
   "cell_type": "markdown",
   "id": "d1941d98-367e-4e67-b5c3-67cf3fa1a477",
   "metadata": {},
   "source": [
    "# Download Samples From Malware Bazaar?"
   ]
  },
  {
   "cell_type": "code",
   "execution_count": 3,
   "id": "b6bb279c-e7ed-4fc8-a478-85fd9995b6ec",
   "metadata": {},
   "outputs": [
    {
     "name": "stdout",
     "output_type": "stream",
     "text": [
      "do you want more samples?y\n"
     ]
    },
    {
     "ename": "KeyboardInterrupt",
     "evalue": "Interrupted by user",
     "output_type": "error",
     "traceback": [
      "\u001b[0;31m---------------------------------------------------------------------------\u001b[0m",
      "\u001b[0;31mKeyboardInterrupt\u001b[0m                         Traceback (most recent call last)",
      "Cell \u001b[0;32mIn [3], line 5\u001b[0m\n\u001b[1;32m      3\u001b[0m answer \u001b[38;5;241m=\u001b[39m \u001b[38;5;28minput\u001b[39m(\u001b[38;5;124m\"\u001b[39m\u001b[38;5;124mdo you want more samples?\u001b[39m\u001b[38;5;124m\"\u001b[39m)\n\u001b[1;32m      4\u001b[0m \u001b[38;5;28;01mif\u001b[39;00m answer \u001b[38;5;241m==\u001b[39m \u001b[38;5;124m\"\u001b[39m\u001b[38;5;124myes\u001b[39m\u001b[38;5;124m\"\u001b[39m \u001b[38;5;129;01mor\u001b[39;00m answer \u001b[38;5;241m==\u001b[39m \u001b[38;5;124m\"\u001b[39m\u001b[38;5;124my\u001b[39m\u001b[38;5;124m\"\u001b[39m:\n\u001b[0;32m----> 5\u001b[0m     \u001b[43mMalAnalyst\u001b[49m\u001b[38;5;241;43m.\u001b[39;49m\u001b[43mdownloadSamplesFromMalBazaar\u001b[49m\u001b[43m(\u001b[49m\u001b[43m)\u001b[49m\n\u001b[1;32m      6\u001b[0m \u001b[38;5;28;01melse\u001b[39;00m:\n\u001b[1;32m      7\u001b[0m     \u001b[38;5;28mprint\u001b[39m(\u001b[38;5;124m\"\u001b[39m\u001b[38;5;124mContinuing\u001b[39m\u001b[38;5;124m\"\u001b[39m)\n",
      "File \u001b[0;32m~/CLionProjects/maljupyter/Jupyter.py:77\u001b[0m, in \u001b[0;36mMalAnalyst.downloadSamplesFromMalBazaar\u001b[0;34m()\u001b[0m\n\u001b[1;32m     74\u001b[0m \u001b[38;5;129m@staticmethod\u001b[39m\n\u001b[1;32m     75\u001b[0m \u001b[38;5;28;01mdef\u001b[39;00m \u001b[38;5;21mdownloadSamplesFromMalBazaar\u001b[39m():\n\u001b[1;32m     76\u001b[0m     zipPassword \u001b[38;5;241m=\u001b[39m \u001b[38;5;124mb\u001b[39m\u001b[38;5;124m'\u001b[39m\u001b[38;5;124minfected\u001b[39m\u001b[38;5;124m'\u001b[39m\n\u001b[0;32m---> 77\u001b[0m     \u001b[38;5;28;01mfor\u001b[39;00m sha256sum \u001b[38;5;129;01min\u001b[39;00m \u001b[43mMalAnalyst\u001b[49m\u001b[38;5;241;43m.\u001b[39;49m\u001b[43mquerySamplesFromMalBazaar\u001b[49m\u001b[43m(\u001b[49m\u001b[43m)\u001b[49m:\n\u001b[1;32m     78\u001b[0m         headers \u001b[38;5;241m=\u001b[39m {\n\u001b[1;32m     79\u001b[0m             \u001b[38;5;124m\"\u001b[39m\u001b[38;5;124mname\u001b[39m\u001b[38;5;124m\"\u001b[39m: sha256sum\n\u001b[1;32m     80\u001b[0m         }\n\u001b[1;32m     81\u001b[0m         queryData \u001b[38;5;241m=\u001b[39m {\n\u001b[1;32m     82\u001b[0m             \u001b[38;5;124m'\u001b[39m\u001b[38;5;124mquery\u001b[39m\u001b[38;5;124m'\u001b[39m: \u001b[38;5;124m'\u001b[39m\u001b[38;5;124mget_file\u001b[39m\u001b[38;5;124m'\u001b[39m,\n\u001b[1;32m     83\u001b[0m             \u001b[38;5;124m'\u001b[39m\u001b[38;5;124msha256_hash\u001b[39m\u001b[38;5;124m'\u001b[39m: sha256sum,\n\u001b[1;32m     84\u001b[0m         }\n",
      "File \u001b[0;32m~/CLionProjects/maljupyter/Jupyter.py:56\u001b[0m, in \u001b[0;36mMalAnalyst.querySamplesFromMalBazaar\u001b[0;34m()\u001b[0m\n\u001b[1;32m     53\u001b[0m \u001b[38;5;129m@staticmethod\u001b[39m\n\u001b[1;32m     54\u001b[0m \u001b[38;5;28;01mdef\u001b[39;00m \u001b[38;5;21mquerySamplesFromMalBazaar\u001b[39m():\n\u001b[1;32m     55\u001b[0m     sumarray \u001b[38;5;241m=\u001b[39m []\n\u001b[0;32m---> 56\u001b[0m     malwareBazaarTags \u001b[38;5;241m=\u001b[39m \u001b[38;5;28;43minput\u001b[39;49m\u001b[43m(\u001b[49m\u001b[38;5;124;43m\"\u001b[39;49m\u001b[38;5;124;43mWhat Tags would you like to include:\u001b[39;49m\u001b[38;5;124;43m\"\u001b[39;49m\u001b[43m)\u001b[49m\n\u001b[1;32m     57\u001b[0m     \u001b[38;5;28;01mif\u001b[39;00m \u001b[38;5;28mlen\u001b[39m(malwareBazaarTags) \u001b[38;5;241m==\u001b[39m \u001b[38;5;241m0\u001b[39m:\n\u001b[1;32m     58\u001b[0m         malwareBazaarTags \u001b[38;5;241m=\u001b[39m \u001b[38;5;124m\"\u001b[39m\u001b[38;5;124m\"\u001b[39m\n",
      "File \u001b[0;32m~/CLionProjects/maljupyter/lib/python3.10/site-packages/ipykernel/kernelbase.py:1177\u001b[0m, in \u001b[0;36mKernel.raw_input\u001b[0;34m(self, prompt)\u001b[0m\n\u001b[1;32m   1173\u001b[0m \u001b[38;5;28;01mif\u001b[39;00m \u001b[38;5;129;01mnot\u001b[39;00m \u001b[38;5;28mself\u001b[39m\u001b[38;5;241m.\u001b[39m_allow_stdin:\n\u001b[1;32m   1174\u001b[0m     \u001b[38;5;28;01mraise\u001b[39;00m StdinNotImplementedError(\n\u001b[1;32m   1175\u001b[0m         \u001b[38;5;124m\"\u001b[39m\u001b[38;5;124mraw_input was called, but this frontend does not support input requests.\u001b[39m\u001b[38;5;124m\"\u001b[39m\n\u001b[1;32m   1176\u001b[0m     )\n\u001b[0;32m-> 1177\u001b[0m \u001b[38;5;28;01mreturn\u001b[39;00m \u001b[38;5;28;43mself\u001b[39;49m\u001b[38;5;241;43m.\u001b[39;49m\u001b[43m_input_request\u001b[49m\u001b[43m(\u001b[49m\n\u001b[1;32m   1178\u001b[0m \u001b[43m    \u001b[49m\u001b[38;5;28;43mstr\u001b[39;49m\u001b[43m(\u001b[49m\u001b[43mprompt\u001b[49m\u001b[43m)\u001b[49m\u001b[43m,\u001b[49m\n\u001b[1;32m   1179\u001b[0m \u001b[43m    \u001b[49m\u001b[38;5;28;43mself\u001b[39;49m\u001b[38;5;241;43m.\u001b[39;49m\u001b[43m_parent_ident\u001b[49m\u001b[43m[\u001b[49m\u001b[38;5;124;43m\"\u001b[39;49m\u001b[38;5;124;43mshell\u001b[39;49m\u001b[38;5;124;43m\"\u001b[39;49m\u001b[43m]\u001b[49m\u001b[43m,\u001b[49m\n\u001b[1;32m   1180\u001b[0m \u001b[43m    \u001b[49m\u001b[38;5;28;43mself\u001b[39;49m\u001b[38;5;241;43m.\u001b[39;49m\u001b[43mget_parent\u001b[49m\u001b[43m(\u001b[49m\u001b[38;5;124;43m\"\u001b[39;49m\u001b[38;5;124;43mshell\u001b[39;49m\u001b[38;5;124;43m\"\u001b[39;49m\u001b[43m)\u001b[49m\u001b[43m,\u001b[49m\n\u001b[1;32m   1181\u001b[0m \u001b[43m    \u001b[49m\u001b[43mpassword\u001b[49m\u001b[38;5;241;43m=\u001b[39;49m\u001b[38;5;28;43;01mFalse\u001b[39;49;00m\u001b[43m,\u001b[49m\n\u001b[1;32m   1182\u001b[0m \u001b[43m\u001b[49m\u001b[43m)\u001b[49m\n",
      "File \u001b[0;32m~/CLionProjects/maljupyter/lib/python3.10/site-packages/ipykernel/kernelbase.py:1219\u001b[0m, in \u001b[0;36mKernel._input_request\u001b[0;34m(self, prompt, ident, parent, password)\u001b[0m\n\u001b[1;32m   1216\u001b[0m             \u001b[38;5;28;01mbreak\u001b[39;00m\n\u001b[1;32m   1217\u001b[0m \u001b[38;5;28;01mexcept\u001b[39;00m \u001b[38;5;167;01mKeyboardInterrupt\u001b[39;00m:\n\u001b[1;32m   1218\u001b[0m     \u001b[38;5;66;03m# re-raise KeyboardInterrupt, to truncate traceback\u001b[39;00m\n\u001b[0;32m-> 1219\u001b[0m     \u001b[38;5;28;01mraise\u001b[39;00m \u001b[38;5;167;01mKeyboardInterrupt\u001b[39;00m(\u001b[38;5;124m\"\u001b[39m\u001b[38;5;124mInterrupted by user\u001b[39m\u001b[38;5;124m\"\u001b[39m) \u001b[38;5;28;01mfrom\u001b[39;00m \u001b[38;5;28mNone\u001b[39m\n\u001b[1;32m   1220\u001b[0m \u001b[38;5;28;01mexcept\u001b[39;00m \u001b[38;5;167;01mException\u001b[39;00m:\n\u001b[1;32m   1221\u001b[0m     \u001b[38;5;28mself\u001b[39m\u001b[38;5;241m.\u001b[39mlog\u001b[38;5;241m.\u001b[39mwarning(\u001b[38;5;124m\"\u001b[39m\u001b[38;5;124mInvalid Message:\u001b[39m\u001b[38;5;124m\"\u001b[39m, exc_info\u001b[38;5;241m=\u001b[39m\u001b[38;5;28;01mTrue\u001b[39;00m)\n",
      "\u001b[0;31mKeyboardInterrupt\u001b[0m: Interrupted by user"
     ]
    }
   ],
   "source": [
    "from Jupyter import * \n",
    "\n",
    "answer = input(\"do you want more samples? \")\n",
    "if answer == \"yes\" or answer == \"y\":\n",
    "    MalAnalyst.downloadSamplesFromMalBazaar()\n",
    "else:\n",
    "    print(\"Continuing...\")"
   ]
  },
  {
   "cell_type": "markdown",
   "id": "74f569d8-f281-4394-b1c9-2f3820b84203",
   "metadata": {},
   "source": [
    "# Enumerate Samples"
   ]
  },
  {
   "cell_type": "code",
   "execution_count": null,
   "id": "1276268d-f4c5-490b-9a69-82d7c744bc2f",
   "metadata": {},
   "outputs": [],
   "source": [
    "samples=!ls Samples/*\n",
    "for s in samples:\n",
    "    print(\"Samples = \" + s)"
   ]
  },
  {
   "cell_type": "code",
   "execution_count": null,
   "id": "63fbf42d-4eb7-4f75-a071-173d47cbafde",
   "metadata": {},
   "outputs": [],
   "source": [
    "sampleObj = [MalAnalyst(s) for s in samples]"
   ]
  },
  {
   "cell_type": "markdown",
   "id": "884e43b2-5e75-472d-ad29-df8afd408d00",
   "metadata": {},
   "source": [
    "# Create a subdirectory for the Malware"
   ]
  },
  {
   "cell_type": "code",
   "execution_count": null,
   "id": "5b4150aa-73e0-4ee5-940b-5516d22db964",
   "metadata": {},
   "outputs": [],
   "source": [
    "for obj in sampleObj:\n",
    "    createSub = MalAnalyst.createSubDirectoryForMalwareSample(obj.sampleName)\n",
    "    hash = MalAnalyst.retrieveSha256HashSum(obj.sampleName)\n",
    "    print(createSub)\n",
    "    print(\"File hash is: \" + hash)\n",
    "    obj.hash = hash\n",
    "    obj.hashedPath = createSub"
   ]
  },
  {
   "cell_type": "markdown",
   "id": "fd733722-ac6d-4147-8be6-d6d99c3caffd",
   "metadata": {},
   "source": [
    "# Check Details on Virus-Total"
   ]
  },
  {
   "cell_type": "code",
   "execution_count": null,
   "id": "848adb63-0c57-47b5-a70c-ce126bd9d76e",
   "metadata": {},
   "outputs": [],
   "source": [
    "VT_API_KEY = getpass(\"Enter VirusTotal API Key (leave blank if none)\")"
   ]
  },
  {
   "cell_type": "code",
   "execution_count": null,
   "id": "4435b1f4-6a36-4df9-9b54-f63d5afaf684",
   "metadata": {},
   "outputs": [],
   "source": [
    "if VT_API_KEY:\n",
    "    virustot = VirusTotalPublicApi(VT_API_KEY)\n",
    "else:\n",
    "    print(\"No Virus Total Key Inputted...Skipping\")"
   ]
  },
  {
   "cell_type": "code",
   "execution_count": null,
   "id": "5f03bc7e-784b-4052-afe5-79e93a0ad6c3",
   "metadata": {},
   "outputs": [],
   "source": [
    "if VT_API_KEY:\n",
    "    for obj in sampleObj:\n",
    "        print(\"Virus Total info regarding this hashsum: \" + obj.hash)\n",
    "        res = virustot.get_file_report(obj.hash)\n",
    "        conf = Utils.maliciousConfidence(res)\n",
    "        print(\"Confidence = \" + str(conf))\n",
    "        \n",
    "        if len(sampleObj) >= 5:\n",
    "            sleep(16)\n",
    "        \n",
    "    \n",
    "else:\n",
    "    print(\"No API KEY Skipping...\")"
   ]
  },
  {
   "cell_type": "markdown",
   "id": "bf12abcf-3ed3-4341-ac8d-2905194bb2aa",
   "metadata": {},
   "source": [
    "# Defang Malicious Binary"
   ]
  },
  {
   "cell_type": "code",
   "execution_count": null,
   "id": "7c3f0e89-7318-4380-a30e-7bd647b4f12a",
   "metadata": {},
   "outputs": [],
   "source": [
    "for obj in sampleObj:\n",
    "    defangBinary = MalAnalyst.moveAndDefang(obj.sampleName)\n",
    "    print(defangBinary)\n",
    "    obj.newSampleName = defangBinary"
   ]
  },
  {
   "cell_type": "markdown",
   "id": "b6abed57-fcc8-436b-a2b4-cb69eec8b37d",
   "metadata": {},
   "source": [
    "# Create a automatic yara rule"
   ]
  },
  {
   "cell_type": "code",
   "execution_count": null,
   "id": "34926b72-9389-4c56-9b8d-5b6c567c33c9",
   "metadata": {},
   "outputs": [],
   "source": [
    "%%capture\n",
    "for obj in sampleObj:\n",
    "    MalAnalyst.retrieveStringsFromYarGen(obj.hashedPath, obj.hash)"
   ]
  },
  {
   "cell_type": "code",
   "execution_count": null,
   "id": "ca844ac0-a7e4-4c19-b8a7-c4ce3fe13acc",
   "metadata": {},
   "outputs": [],
   "source": [
    "print(\"YaraGen Rules creation has been completed\")"
   ]
  },
  {
   "cell_type": "markdown",
   "id": "cdce26e3-d981-4c03-af83-7e553b35d381",
   "metadata": {},
   "source": [
    "# Pull Strings from Binary"
   ]
  },
  {
   "cell_type": "code",
   "execution_count": null,
   "id": "9350974a-9a1e-41ab-bc9c-77cdafcdaad3",
   "metadata": {},
   "outputs": [],
   "source": [
    "for obj in sampleObj:\n",
    "    MalAnalyst.pullStringsEncodedAndUnicode(obj.newSampleName, obj.hashedPath)  #obj.samplename \n",
    "    print(\"Encoded Strings and Unicode files for \" + obj.hash + \"has been pulled\")"
   ]
  },
  {
   "cell_type": "markdown",
   "id": "4d825bc6-a499-4890-a6bd-e4de3afa9b9a",
   "metadata": {
    "tags": []
   },
   "source": [
    "# Zip Malware with a password"
   ]
  },
  {
   "cell_type": "code",
   "execution_count": null,
   "id": "0695d422-d762-4113-b7ed-251e77937218",
   "metadata": {},
   "outputs": [],
   "source": [
    "for obj in sampleObj:\n",
    "    MalAnalyst.zipMaliciousSample(obj.newSampleName, obj.hash, obj.hashedPath)\n",
    "    print(obj.hash + \" has been zipped and protected with the password infected\")    "
   ]
  }
 ],
 "metadata": {
  "kernelspec": {
   "display_name": "Python 3 (ipykernel)",
   "language": "python",
   "name": "python3"
  },
  "language_info": {
   "codemirror_mode": {
    "name": "ipython",
    "version": 3
   },
   "file_extension": ".py",
   "mimetype": "text/x-python",
   "name": "python",
   "nbconvert_exporter": "python",
   "pygments_lexer": "ipython3",
   "version": "3.10.8"
  }
 },
 "nbformat": 4,
 "nbformat_minor": 5
}
